{
 "cells": [
  {
   "cell_type": "code",
   "execution_count": 1,
   "id": "leading-medium",
   "metadata": {},
   "outputs": [],
   "source": [
    "import torch\n",
    "import torch.nn as nn\n",
    "from tony_dataset import CTGdataset\n",
    "from neural_net import Neural_Net, train_nn\n",
    "import sys, os\n",
    "import pandas as pd\n",
    "import numpy as np\n",
    "\n",
    "# check computation device\n",
    "device = ('cuda' if torch.cuda.is_available() else 'cpu')\n",
    "# print(f\"Computation device: {device}\\n\")"
   ]
  },
  {
   "cell_type": "code",
   "execution_count": 2,
   "id": "indonesian-smell",
   "metadata": {},
   "outputs": [],
   "source": [
    "'''\n",
    "STEP 1: LOADING DATASET\n",
    "'''\n",
    "CTG_dataset = CTGdataset()\n",
    "\n",
    "train_dataset, test_dataset = torch.utils.data.random_split(CTG_dataset, \n",
    "    [int(0.6 * len(CTG_dataset)), len(CTG_dataset) - int(0.6 * len(CTG_dataset))])\n",
    "# training vs testing ratio is 6:4"
   ]
  },
  {
   "cell_type": "markdown",
   "metadata": {},
   "source": [
    "Consider hidden dimensions be 20, 40, 60, 80, 100, 120"
   ]
  },
  {
   "cell_type": "code",
   "execution_count": 3,
   "metadata": {},
   "outputs": [],
   "source": [
    "def generate_data(model, test_dataset):\n",
    "    test_loader = torch.utils.data.DataLoader(dataset=test_dataset, \n",
    "                                            batch_size=len(test_dataset), \n",
    "                                            shuffle=True)\n",
    "    # Iterate through test dataset, calculate testing accuracy\n",
    "    for samples, labels in test_loader:\n",
    "        outputs = model(samples)\n",
    "        _, predicted = torch.max(outputs.data, 1)\n",
    "    return samples, predicted"
   ]
  },
  {
   "cell_type": "code",
   "execution_count": 7,
   "metadata": {},
   "outputs": [],
   "source": [
    "for hidden_dim in [20,40,60,80,100,120]:\n",
    "    # Instantiate model class\n",
    "    input_dim = 22  # 22 features in case of CTG\n",
    "    output_dim = 10 # 10 class labels in case of CTG, _class = 10\n",
    "    model = Neural_Net(input_dim, hidden_dim, output_dim)\n",
    "\n",
    "    orig_stdout = sys.stdout\n",
    "\n",
    "    # Warmstart the neural networks\n",
    "    filepath = f'synthetic_data/vary_width/dim_{hidden_dim}/test_performance.txt'\n",
    "    os.makedirs(os.path.dirname(filepath), exist_ok = True)\n",
    "\n",
    "    with open(filepath, 'w') as sys.stdout:\n",
    "        batch_size = 100\n",
    "        train_nn(model, train_dataset, test_dataset, batch_size = batch_size, l_r = 0.005, num_epochs = 6)\n",
    "        # num_epochs is chosen to make the test accuracies of all 6 NN models to be less than 50%,\n",
    "        # so that these models don't end up simply replicating the dataset\n",
    "\n",
    "    # Generate synthetic data with the neural networks\n",
    "    x, y = generate_data(model, test_dataset)\n",
    "    x_df, y_df = pd.DataFrame(x.numpy()), pd.DataFrame(y.numpy())\n",
    "    x_df.to_csv(f'synthetic_data/vary_width/dim_{hidden_dim}/x.csv', index=False, header=False)\n",
    "    y_df.to_csv(f'synthetic_data/vary_width/dim_{hidden_dim}/y.csv', index=False, header=False)\n",
    "\n",
    "    sys.stdout = orig_stdout"
   ]
  },
  {
   "cell_type": "code",
   "execution_count": 5,
   "metadata": {},
   "outputs": [],
   "source": [
    "# hyperparameters for gridsearch use\n",
    "timelimit = 600\n",
    "datasets = ['CTG','balance-scale', 'breast-cancer', 'car-evaluation', 'hayes-roth', 'house-votes-84', \n",
    "            'soybean-small', 'spect', 'tic-tac-toe', 'monks-1', 'monks-2', 'monks-3']\n",
    "alpha = [0, 0.01, 0.1]\n",
    "depth = [2, 3, 4, 5]\n",
    "seeds = [37, 42, 53]"
   ]
  },
  {
   "cell_type": "code",
   "execution_count": null,
   "metadata": {},
   "outputs": [],
   "source": []
  }
 ],
 "metadata": {
  "kernelspec": {
   "display_name": "Python 3.10.4 ('thesis')",
   "language": "python",
   "name": "python3"
  },
  "language_info": {
   "codemirror_mode": {
    "name": "ipython",
    "version": 3
   },
   "file_extension": ".py",
   "mimetype": "text/x-python",
   "name": "python",
   "nbconvert_exporter": "python",
   "pygments_lexer": "ipython3",
   "version": "3.10.4"
  },
  "orig_nbformat": 4,
  "vscode": {
   "interpreter": {
    "hash": "2a97c0bf1793417678f77e3b84990ea9a3dd0c9e311941dd10ad6207474db573"
   }
  }
 },
 "nbformat": 4,
 "nbformat_minor": 2
}
