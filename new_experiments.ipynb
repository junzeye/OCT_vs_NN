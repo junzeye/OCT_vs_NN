{
 "cells": [
  {
   "cell_type": "code",
   "execution_count": 1,
   "id": "leading-medium",
   "metadata": {},
   "outputs": [],
   "source": [
    "import time\n",
    "from os import path\n",
    "import itertools"
   ]
  },
  {
   "cell_type": "code",
   "execution_count": 2,
   "id": "indonesian-smell",
   "metadata": {},
   "outputs": [],
   "source": [
    "import pandas as pd\n",
    "import warnings\n",
    "warnings.simplefilter(action='ignore', category=FutureWarning)\n",
    "from sklearn.metrics import accuracy_score\n",
    "from sklearn.model_selection import train_test_split"
   ]
  },
  {
   "cell_type": "code",
   "execution_count": 10,
   "id": "fb19efdf",
   "metadata": {},
   "outputs": [],
   "source": [
    "from tree import optimalDecisionTreeClassifier"
   ]
  },
  {
   "cell_type": "code",
   "execution_count": 4,
   "id": "likely-aluminum",
   "metadata": {},
   "outputs": [],
   "source": [
    "import dataset\n",
    "import tree as miptree\n",
    "from sklearn import tree"
   ]
  },
  {
   "cell_type": "markdown",
   "id": "floppy-attendance",
   "metadata": {},
   "source": [
    "## Optimal Classification Tree "
   ]
  },
  {
   "cell_type": "code",
   "execution_count": 5,
   "id": "obvious-hollow",
   "metadata": {},
   "outputs": [],
   "source": [
    "timelimit = 1800 # time limit --> consider increasing for deeper trees\n",
    "datasets = ['CTG_width']\n",
    "alpha = [0, 0.01, 0.1]\n",
    "depth = [4,5,6,7]\n",
    "hidden_dims = [20, 40, 60, 80, 100, 120]\n",
    "seeds = [37, 42, 53] # use of specified random states for experiment reproducibility"
   ]
  },
  {
   "cell_type": "code",
   "execution_count": 6,
   "id": "tested-steam",
   "metadata": {},
   "outputs": [],
   "source": [
    "train_ratio = 0.5\n",
    "val_ratio = 0.25\n",
    "test_ratio = 0.25"
   ]
  },
  {
   "cell_type": "code",
   "execution_count": 7,
   "id": "rotary-budapest",
   "metadata": {},
   "outputs": [],
   "source": [
    "# create or load previously computed results\n",
    "res_sk = pd.DataFrame(columns=['instance', 'depth', 'seed', 'train_acc', 'val_acc', 'test_acc', 'train_time'])\n",
    "if path.isfile('./res/oct.csv'):\n",
    "    res_oct = pd.read_csv('./res/oct.csv')\n",
    "else:\n",
    "    res_oct = pd.DataFrame(columns=['instance', 'depth', 'alpha', 'seed', \n",
    "                                    'train_acc', 'val_acc', 'test_acc', 'train_time', 'gap'])"
   ]
  },
  {
   "cell_type": "code",
   "execution_count": 11,
   "metadata": {},
   "outputs": [
    {
     "name": "stdout",
     "output_type": "stream",
     "text": [
      "Set parameter Username\n",
      "Academic license - for non-commercial use only - expires 2023-07-23\n"
     ]
    },
    {
     "name": "stderr",
     "output_type": "stream",
     "text": [
      "/var/folders/t3/z6v5tnl10rz1qq5f_fr_gmy40000gn/T/ipykernel_77521/2348583596.py:29: FutureWarning: The frame.append method is deprecated and will be removed from pandas in a future version. Use pandas.concat instead.\n",
      "  res_oct = res_oct.append(row, ignore_index=True)\n"
     ]
    },
    {
     "name": "stdout",
     "output_type": "stream",
     "text": [
      "CTG_width oct-d4-a0 train acc: 0.92 val acc: 0.8450704225352113 gap: 1.0\n",
      "\n",
      "Interrupt request received\n",
      "CTG_width oct-d4-a0.01 train acc: 0.9176470588235294 val acc: 0.8356807511737089 gap: 0.9361702127659574\n"
     ]
    },
    {
     "name": "stderr",
     "output_type": "stream",
     "text": [
      "/var/folders/t3/z6v5tnl10rz1qq5f_fr_gmy40000gn/T/ipykernel_77521/2348583596.py:29: FutureWarning: The frame.append method is deprecated and will be removed from pandas in a future version. Use pandas.concat instead.\n",
      "  res_oct = res_oct.append(row, ignore_index=True)\n"
     ]
    }
   ],
   "source": [
    "for data, hidden_dim, d, s in itertools.product(datasets, hidden_dims, depth, seeds): # simplifies nested for loops\n",
    "    # load data\n",
    "    x, y = dataset.loadData(data, hidden_dim)\n",
    "    # data splitting\n",
    "    x_train, x_test, y_train, y_test = train_test_split(x, y, test_size=1-train_ratio, random_state=s)\n",
    "    x_val, x_test, y_val, y_test = train_test_split(x_test, y_test, \n",
    "                                                    test_size=test_ratio/(test_ratio+val_ratio), random_state=s)\n",
    "\n",
    "    for a in alpha:\n",
    "        # oct\n",
    "        row = res_oct[(res_oct['instance'] == data) & (res_oct['depth'] == d) & \n",
    "                    (res_oct['alpha'] == a) & (res_oct['seed'] == s) & (res_oct['Gap'] <= 0.02)]\n",
    "        if len(row): # if the specific oct is already trained and optimized up to a degree, we directly print the previously recorded results\n",
    "            print(data, 'oct-d{}-a{}'.format(row['depth'].values[0],row['alpha'].values[0]),\n",
    "                'train acc:', row['train_acc'].values[0], 'val acc:', row['val_acc'].values[0],\n",
    "                'gap:', row['gap'].values[0])\n",
    "        else: # tree has not been trained, so train\n",
    "            octree = optimalDecisionTreeClassifier(max_depth=d, min_samples_split=0, alpha=a, warmstart=False,\n",
    "                                                        timelimit=timelimit, output=False)\n",
    "            tick = time.time()\n",
    "            octree.fit(x_train, y_train)\n",
    "            tock = time.time()\n",
    "            train_time = tock - tick\n",
    "            train_acc = accuracy_score(y_train, octree.predict(x_train))\n",
    "            val_acc = accuracy_score(y_val, octree.predict(x_val))\n",
    "            test_acc = accuracy_score(y_test, octree.predict(x_test))\n",
    "            row = {'instance':data, 'depth':d, 'alpha':a, 'seed':s, 'train_acc':train_acc, 'val_acc':val_acc,\n",
    "                'test_acc':test_acc, 'train_time':train_time, 'gap':octree.optgap}\n",
    "            res_oct = res_oct.append(row, ignore_index=True)\n",
    "            res_oct.to_csv('./res/oct.csv', index=False)\n",
    "            print(data, 'oct-d{}-a{}'.format(d,a), \n",
    "                'train acc:', train_acc, 'val acc:', val_acc, 'gap:', octree.optgap)\n",
    "            #print(row)"
   ]
  }
 ],
 "metadata": {
  "kernelspec": {
   "display_name": "Python 3.10.4 ('thesis')",
   "language": "python",
   "name": "python3"
  },
  "language_info": {
   "codemirror_mode": {
    "name": "ipython",
    "version": 3
   },
   "file_extension": ".py",
   "mimetype": "text/x-python",
   "name": "python",
   "nbconvert_exporter": "python",
   "pygments_lexer": "ipython3",
   "version": "3.10.4"
  },
  "orig_nbformat": 4,
  "vscode": {
   "interpreter": {
    "hash": "2a97c0bf1793417678f77e3b84990ea9a3dd0c9e311941dd10ad6207474db573"
   }
  }
 },
 "nbformat": 4,
 "nbformat_minor": 2
}
