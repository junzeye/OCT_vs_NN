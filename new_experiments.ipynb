{
 "cells": [
  {
   "cell_type": "code",
   "execution_count": 1,
   "id": "leading-medium",
   "metadata": {},
   "outputs": [],
   "source": [
    "import time\n",
    "from os import path\n",
    "import itertools"
   ]
  },
  {
   "cell_type": "code",
   "execution_count": 2,
   "id": "indonesian-smell",
   "metadata": {},
   "outputs": [],
   "source": [
    "import pandas as pd\n",
    "from sklearn.metrics import accuracy_score\n",
    "from sklearn.model_selection import train_test_split"
   ]
  },
  {
   "cell_type": "code",
   "execution_count": 3,
   "id": "fb19efdf",
   "metadata": {},
   "outputs": [],
   "source": [
    "from oct_tree import OCT_classifier"
   ]
  },
  {
   "cell_type": "code",
   "execution_count": 4,
   "id": "likely-aluminum",
   "metadata": {},
   "outputs": [],
   "source": [
    "import dataset\n",
    "import tree as miptree\n",
    "from sklearn import tree"
   ]
  },
  {
   "cell_type": "markdown",
   "id": "floppy-attendance",
   "metadata": {},
   "source": [
    "## Optimal Classification Tree "
   ]
  },
  {
   "cell_type": "code",
   "execution_count": 5,
   "id": "obvious-hollow",
   "metadata": {},
   "outputs": [],
   "source": [
    "timelimit = 1800 # time limit --> consider increasing for deeper trees\n",
    "datasets = ['CTG_width']\n",
    "alpha = [0, 0.01, 0.1]\n",
    "depth = [4,5,6,7]\n",
    "hidden_dims = [20, 40, 60, 80, 100, 120]\n",
    "seeds = [37, 42, 53] # use of specified random states for experiment reproducibility"
   ]
  },
  {
   "cell_type": "code",
   "execution_count": 6,
   "id": "tested-steam",
   "metadata": {},
   "outputs": [],
   "source": [
    "train_ratio = 0.5\n",
    "val_ratio = 0.25\n",
    "test_ratio = 0.25"
   ]
  },
  {
   "cell_type": "code",
   "execution_count": 7,
   "id": "rotary-budapest",
   "metadata": {},
   "outputs": [],
   "source": [
    "# create or load previously computed results\n",
    "res_sk = pd.DataFrame(columns=['instance', 'depth', 'seed', 'train_acc', 'val_acc', 'test_acc', 'train_time'])\n",
    "if path.isfile('./res/oct.csv'):\n",
    "    res_oct = pd.read_csv('./res/oct.csv')\n",
    "else:\n",
    "    res_oct = pd.DataFrame(columns=['instance', 'depth', 'alpha', 'seed', \n",
    "                                    'train_acc', 'val_acc', 'test_acc', 'train_time', 'gap'])"
   ]
  },
  {
   "cell_type": "code",
   "execution_count": 8,
   "metadata": {},
   "outputs": [
    {
     "ename": "ValueError",
     "evalue": "min() arg is an empty sequence",
     "output_type": "error",
     "traceback": [
      "\u001b[0;31m---------------------------------------------------------------------------\u001b[0m",
      "\u001b[0;31mValueError\u001b[0m                                Traceback (most recent call last)",
      "\u001b[1;32m/Users/myhouse/Desktop/OCT_vs_NN/new_experiments.ipynb Cell 9\u001b[0m in \u001b[0;36m<cell line: 1>\u001b[0;34m()\u001b[0m\n\u001b[1;32m     <a href='vscode-notebook-cell:/Users/myhouse/Desktop/OCT_vs_NN/new_experiments.ipynb#X26sZmlsZQ%3D%3D?line=17'>18</a>\u001b[0m octree \u001b[39m=\u001b[39m OCT_classifier(max_depth\u001b[39m=\u001b[39md, min_samples_split\u001b[39m=\u001b[39m\u001b[39m0\u001b[39m, alpha\u001b[39m=\u001b[39ma, warmstart\u001b[39m=\u001b[39m\u001b[39mFalse\u001b[39;00m,\n\u001b[1;32m     <a href='vscode-notebook-cell:/Users/myhouse/Desktop/OCT_vs_NN/new_experiments.ipynb#X26sZmlsZQ%3D%3D?line=18'>19</a>\u001b[0m                                             timelimit\u001b[39m=\u001b[39mtimelimit, output\u001b[39m=\u001b[39m\u001b[39mFalse\u001b[39;00m)\n\u001b[1;32m     <a href='vscode-notebook-cell:/Users/myhouse/Desktop/OCT_vs_NN/new_experiments.ipynb#X26sZmlsZQ%3D%3D?line=19'>20</a>\u001b[0m tick \u001b[39m=\u001b[39m time\u001b[39m.\u001b[39mtime()\n\u001b[0;32m---> <a href='vscode-notebook-cell:/Users/myhouse/Desktop/OCT_vs_NN/new_experiments.ipynb#X26sZmlsZQ%3D%3D?line=20'>21</a>\u001b[0m octree\u001b[39m.\u001b[39;49mfit(x_train, y_train)\n\u001b[1;32m     <a href='vscode-notebook-cell:/Users/myhouse/Desktop/OCT_vs_NN/new_experiments.ipynb#X26sZmlsZQ%3D%3D?line=21'>22</a>\u001b[0m tock \u001b[39m=\u001b[39m time\u001b[39m.\u001b[39mtime()\n\u001b[1;32m     <a href='vscode-notebook-cell:/Users/myhouse/Desktop/OCT_vs_NN/new_experiments.ipynb#X26sZmlsZQ%3D%3D?line=22'>23</a>\u001b[0m train_time \u001b[39m=\u001b[39m tock \u001b[39m-\u001b[39m tick\n",
      "File \u001b[0;32m~/Desktop/OCT_vs_NN/oct_tree.py:179\u001b[0m, in \u001b[0;36mOCT_classifier.fit\u001b[0;34m(self, x, y)\u001b[0m\n\u001b[1;32m    176\u001b[0m \u001b[39mself\u001b[39m\u001b[39m.\u001b[39m_model_add_sets(dataset_length, dim_x, class_labels)\n\u001b[1;32m    178\u001b[0m L_hat \u001b[39m=\u001b[39m \u001b[39mself\u001b[39m\u001b[39m.\u001b[39m_get_baseline(y)\n\u001b[0;32m--> 179\u001b[0m Epsilon \u001b[39m=\u001b[39m \u001b[39mself\u001b[39;49m\u001b[39m.\u001b[39;49m_get_Epsilon(x)\n\u001b[1;32m    181\u001b[0m \u001b[39mself\u001b[39m\u001b[39m.\u001b[39m_model_add_decision_var()\n\u001b[1;32m    182\u001b[0m \u001b[39mself\u001b[39m\u001b[39m.\u001b[39m_model_add_param(L_hat, y)\n",
      "File \u001b[0;32m~/Desktop/OCT_vs_NN/oct_tree.py:161\u001b[0m, in \u001b[0;36mOCT_classifier._get_Epsilon\u001b[0;34m(self, x)\u001b[0m\n\u001b[1;32m    158\u001b[0m         \u001b[39mif\u001b[39;00m x_j_i[i\u001b[39m+\u001b[39m\u001b[39m1\u001b[39m] \u001b[39m-\u001b[39m x_j_i[i] \u001b[39m!=\u001b[39m \u001b[39m0\u001b[39m:\n\u001b[1;32m    159\u001b[0m             diff\u001b[39m.\u001b[39mappend(x_j_i[i\u001b[39m+\u001b[39m\u001b[39m1\u001b[39m] \u001b[39m-\u001b[39m x_j_i[i])\n\u001b[0;32m--> 161\u001b[0m     Epsilon[j] \u001b[39m=\u001b[39m \u001b[39mmin\u001b[39m(\u001b[39mmin\u001b[39;49m(diff), \u001b[39m1\u001b[39m)\n\u001b[1;32m    163\u001b[0m \u001b[39mreturn\u001b[39;00m Epsilon\n",
      "\u001b[0;31mValueError\u001b[0m: min() arg is an empty sequence"
     ]
    }
   ],
   "source": [
    "for data, hidden_dim, d, s in itertools.product(datasets, hidden_dims, depth, seeds): # simplifies nested for loops\n",
    "    # load data\n",
    "    x, y = dataset.loadData(data, hidden_dim)\n",
    "    # data splitting\n",
    "    x_train, x_test, y_train, y_test = train_test_split(x, y, test_size=1-train_ratio, random_state=s)\n",
    "    x_val, x_test, y_val, y_test = train_test_split(x_test, y_test, \n",
    "                                                    test_size=test_ratio/(test_ratio+val_ratio), random_state=s)\n",
    "\n",
    "    for a in alpha:\n",
    "        # oct\n",
    "        row = res_oct[(res_oct['instance'] == data) & (res_oct['depth'] == d) & \n",
    "                    (res_oct['alpha'] == a) & (res_oct['seed'] == s)]\n",
    "        if len(row): # if the tree is already trained, just print the previously recorded results\n",
    "            print(data, 'oct-d{}-a{}'.format(row['depth'].values[0],row['alpha'].values[0]),\n",
    "                'train acc:', row['train_acc'].values[0], 'val acc:', row['val_acc'].values[0],\n",
    "                'gap:', row['gap'].values[0])\n",
    "        else: # tree has not been trained, so train\n",
    "            octree = OCT_classifier(max_depth=d, min_samples_split=0, alpha=a, warmstart=False,\n",
    "                                                        timelimit=timelimit, output=False)\n",
    "            tick = time.time()\n",
    "            octree.fit(x_train, y_train)\n",
    "            tock = time.time()\n",
    "            train_time = tock - tick\n",
    "            train_acc = accuracy_score(y_train, octree.predict(x_train))\n",
    "            val_acc = accuracy_score(y_val, octree.predict(x_val))\n",
    "            test_acc = accuracy_score(y_test, octree.predict(x_test))\n",
    "            row = {'instance':data, 'depth':d, 'alpha':a, 'seed':s, 'train_acc':train_acc, 'val_acc':val_acc,\n",
    "                'test_acc':test_acc, 'train_time':train_time, 'gap':octree.optgap}\n",
    "            res_oct = res_oct.append(row, ignore_index=True)\n",
    "            res_oct.to_csv('./res/oct.csv', index=False)\n",
    "            print(data, 'oct-d{}-a{}'.format(d,a), \n",
    "                'train acc:', train_acc, 'val acc:', val_acc, 'gap:', octree.optgap)\n",
    "            #print(row)"
   ]
  },
  {
   "cell_type": "code",
   "execution_count": null,
   "metadata": {},
   "outputs": [],
   "source": []
  }
 ],
 "metadata": {
  "kernelspec": {
   "display_name": "Python 3.10.4 ('thesis')",
   "language": "python",
   "name": "python3"
  },
  "language_info": {
   "codemirror_mode": {
    "name": "ipython",
    "version": 3
   },
   "file_extension": ".py",
   "mimetype": "text/x-python",
   "name": "python",
   "nbconvert_exporter": "python",
   "pygments_lexer": "ipython3",
   "version": "3.10.4"
  },
  "orig_nbformat": 4,
  "vscode": {
   "interpreter": {
    "hash": "2a97c0bf1793417678f77e3b84990ea9a3dd0c9e311941dd10ad6207474db573"
   }
  }
 },
 "nbformat": 4,
 "nbformat_minor": 2
}
