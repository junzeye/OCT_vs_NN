{
 "cells": [
  {
   "cell_type": "code",
   "execution_count": 3,
   "id": "leading-medium",
   "metadata": {},
   "outputs": [],
   "source": [
    "import time, itertools, sys, warnings, os, argparse\n",
    "warnings.simplefilter(action='ignore', category=FutureWarning)\n",
    "from os import path\n",
    "import pandas as pd\n",
    "\n",
    "from sklearn.metrics import accuracy_score\n",
    "from sklearn.model_selection import train_test_split\n",
    "from sklearn import tree\n",
    "from tree import optimalDecisionTreeClassifier\n",
    "import dataset\n",
    "import tree as miptree"
   ]
  },
  {
   "cell_type": "code",
   "execution_count": null,
   "metadata": {},
   "outputs": [],
   "source": [
    "parser = argparse.ArgumentParser()\n",
    "parser.add_argument('--a', type=float, required=True, \n",
    "                    help='alpha, tree regularization param')\n",
    "parser.add_argument('--d', type=int, required=True, help='depth of the tree')\n",
    "parser.add_argument('--s', type=int, required=True, help='random seed value')\n",
    "parser.add_argument('--hidden_dim', type=int, required=True)\n",
    "# the following three are optional arguments\n",
    "parser.add_argument('--min_samples_split', type=int, default=2, \n",
    "                    help='leaf node minimum value')\n",
    "parser.add_argument('--timelimit', type=int, default=12600) # Gurobi timeout limit (3.5hr)\n",
    "parser.add_argument('--data', type=str, default='CTG_width') # name of the dataset\n",
    "\n",
    "args = parser.parse_args()\n",
    "a, d, s, hidden_dim, min_samples_split, data, timelimit = args.a, args.d, args.s, \\\n",
    "    args.hidden_dim, args.min_samples_split, args.data, args.timelimit"
   ]
  },
  {
   "cell_type": "code",
   "execution_count": 2,
   "id": "obvious-hollow",
   "metadata": {},
   "outputs": [],
   "source": [
    "'''\n",
    "alpha = [0.001, 0.01, 0.1]\n",
    "depth = [4,6,8]\n",
    "hidden_dims = [20, 40, 60, 80, 100, 120]\n",
    "seeds = [37, 42, 53] # use of specified random states for experiment reproducibility\n",
    "'''\n",
    "\n",
    "train_ratio = 0.6\n",
    "val_ratio = 0.2\n",
    "test_ratio = 0.2"
   ]
  },
  {
   "cell_type": "code",
   "execution_count": 3,
   "id": "rotary-budapest",
   "metadata": {},
   "outputs": [],
   "source": [
    "# create or load previously computed results\n",
    "res_sk = pd.DataFrame(columns=['instance', 'depth', 'seed', 'train_acc', 'val_acc', 'test_acc', 'train_time'])\n",
    "if path.isfile('./res/oct.csv'):\n",
    "    res_oct = pd.read_csv('./res/oct.csv')\n",
    "else:\n",
    "    res_oct = pd.DataFrame(columns=['instance', 'depth', 'alpha', 'seed', \n",
    "                                    'train_acc', 'val_acc', 'test_acc', 'train_time', 'gap'])"
   ]
  },
  {
   "cell_type": "code",
   "execution_count": 5,
   "metadata": {},
   "outputs": [],
   "source": [
    "# load data\n",
    "x, y = dataset.loadData(data, hidden_dim)\n",
    "# data splitting\n",
    "x_train, x_test, y_train, y_test = train_test_split(x, y, test_size=1-train_ratio, random_state=s)\n",
    "x_val, x_test, y_val, y_test = train_test_split(x_test, y_test, \n",
    "                                                test_size=test_ratio/(test_ratio+val_ratio), random_state=s)\n",
    "\n",
    "# oct\n",
    "row = res_oct[(res_oct['instance'] == data) & (res_oct['depth'] == d) & \n",
    "            (res_oct['alpha'] == a) & (res_oct['seed'] == s) & (res_oct['gap'] <= 0.02)]\n",
    "if len(row): # if the specific oct is already trained and optimized up to a degree, we directly print the previously recorded results\n",
    "    print(data, 'oct-d{}-a{}'.format(row['depth'].values[0],row['alpha'].values[0]),\n",
    "        'train acc:', row['train_acc'].values[0], 'val acc:', row['val_acc'].values[0],\n",
    "        'gap:', row['gap'].values[0])\n",
    "else: # tree has not been trained, so train\n",
    "    octree = optimalDecisionTreeClassifier(max_depth=d, min_samples_split=min_samples_split, alpha=a, warmstart=True,\n",
    "                                                timelimit=timelimit, output=True)\n",
    "    orig_stdout = sys.stdout\n",
    "    filepath = f'synthetic_tests/{data}/logs_dim={hidden_dim}_d={d}_seed={s}_alpha={a}_minLeaf={min_samples_split}.txt'\n",
    "    os.makedirs(os.path.dirname(filepath), exist_ok = True)\n",
    "    with open(filepath, 'w') as f:\n",
    "        sys.stdout = f\n",
    "        tick = time.time()\n",
    "        \n",
    "        octree.fit(x_train, y_train)\n",
    "        \n",
    "        tock = time.time()\n",
    "    sys.stdout = orig_stdout\n",
    "    \n",
    "    train_time = tock - tick\n",
    "    train_acc = accuracy_score(y_train, octree.predict(x_train))\n",
    "    val_acc = accuracy_score(y_val, octree.predict(x_val))\n",
    "    test_acc = accuracy_score(y_test, octree.predict(x_test))\n",
    "    row = {'instance':data, 'depth':d, 'alpha':a, 'seed':s, 'train_acc':train_acc, 'val_acc':val_acc,\n",
    "        'test_acc':test_acc, 'train_time':train_time, 'gap':octree.optgap}\n",
    "    res_oct = res_oct.append(row, ignore_index=True)\n",
    "    res_oct.to_csv('./res/oct.csv', index=False)\n",
    "    print(data, 'oct-d{}-a{}'.format(d,a), \n",
    "        'train acc:', train_acc, 'val acc:', val_acc, 'gap:', octree.optgap)"
   ]
  }
 ],
 "metadata": {
  "kernelspec": {
   "display_name": "Python 3.10.4 ('thesis')",
   "language": "python",
   "name": "python3"
  },
  "language_info": {
   "codemirror_mode": {
    "name": "ipython",
    "version": 3
   },
   "file_extension": ".py",
   "mimetype": "text/x-python",
   "name": "python",
   "nbconvert_exporter": "python",
   "pygments_lexer": "ipython3",
   "version": "3.10.4"
  },
  "orig_nbformat": 4,
  "vscode": {
   "interpreter": {
    "hash": "2a97c0bf1793417678f77e3b84990ea9a3dd0c9e311941dd10ad6207474db573"
   }
  }
 },
 "nbformat": 4,
 "nbformat_minor": 2
}
